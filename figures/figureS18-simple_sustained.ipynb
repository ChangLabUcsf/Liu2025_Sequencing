{
 "cells": [
  {
   "cell_type": "markdown",
   "metadata": {},
   "source": [
    "# Fig. S18 - Sustained activity during simple sequences"
   ]
  },
  {
   "cell_type": "code",
   "execution_count": null,
   "metadata": {},
   "outputs": [],
   "source": [
    "import json\n",
    "import os\n",
    "import pickle\n",
    "from datetime import datetime\n",
    "\n",
    "import matplotlib.pyplot as plt\n",
    "import numpy as np\n",
    "import pandas as pd\n",
    "\n",
    "from sylseq_paper.plotting import ucsf_sequential_color_palette as colors, default_plot_settings"
   ]
  },
  {
   "cell_type": "code",
   "execution_count": null,
   "metadata": {},
   "outputs": [],
   "source": [
    "# Set up paths\n",
    "data_dir = os.path.abspath(os.path.join(os.getcwd(), '..', 'data'))\n",
    "img_dir = os.path.abspath(os.path.join(os.getcwd(), '..', 'imaging'))\n",
    "mni_img_path = os.path.join(img_dir, 'MNI_{}_{}_brain_2D.png')\n",
    "\n",
    "# Load bad channels\n",
    "with open(os.path.join(data_dir, 'bad_channels.pkl'), 'rb') as f:\n",
    "    bad_channels = pickle.load(f)\n",
    "\n",
    "plot_subjects = ['EC217', 'EC219', 'EC223', 'EC237', 'EC240', 'EC241', 'EC253',\n",
    "                 'EC254', 'EC260', 'EC263', 'EC276']\n",
    "\n",
    "alignment_shorthand = {\n",
    "    'target_presentation': 'target_pres',\n",
    "    'delay'              : 'delay',\n",
    "    'pre_exec'           : 'pre_exec',\n",
    "    'speech'             : 'speech'\n",
    "}\n",
    "sig_thresh = 0.05"
   ]
  },
  {
   "cell_type": "code",
   "execution_count": null,
   "metadata": {},
   "outputs": [],
   "source": [
    "# Load dataframe electrode information\n",
    "with open(os.path.join(data_dir, 'fig1_ndf_sustained_se.pkl'), 'rb') as f:\n",
    "    results = pickle.load(f)\n",
    "    complex_sustained_se = results['sustained_se']\n",
    "\n",
    "sig_above_baseline_df = pd.read_hdf(os.path.join(data_dir, 'suppfig_simple_sustained.h5'))\n",
    "\n",
    "all_bad_se = []\n",
    "\n",
    "for subject in bad_channels.keys():\n",
    "    all_bad_se.extend(f'{subject}_{e}' for e in\n",
    "                      np.concatenate(list(bad_channels[subject].values())))\n",
    "    \n",
    "# Remove bad channels\n",
    "sig_above_baseline_df = sig_above_baseline_df.loc[~sig_above_baseline_df.subject_electrode.isin(all_bad_se)]"
   ]
  },
  {
   "cell_type": "code",
   "execution_count": null,
   "metadata": {
    "tags": []
   },
   "outputs": [],
   "source": [
    "simple_sustained_se = []\n",
    "for se in sig_above_baseline_df.subject_electrode.unique():\n",
    "    \n",
    "    cur_df = sig_above_baseline_df.loc[sig_above_baseline_df.subject_electrode == se]\n",
    "    pvals = np.array([cur_df[f'{k}_above_baseline_fdr_pvalues'].values[0] for k in alignment_shorthand.values()])\n",
    "    is_sig = np.where(pvals < sig_thresh, True, False)\n",
    "\n",
    "    if is_sig.all():\n",
    "        simple_sustained_se.append(se)\n",
    "\n",
    "simple_sustained_se = np.array(simple_sustained_se)"
   ]
  },
  {
   "cell_type": "markdown",
   "metadata": {},
   "source": [
    "## Figure"
   ]
  },
  {
   "cell_type": "code",
   "execution_count": null,
   "metadata": {},
   "outputs": [],
   "source": [
    "default_plot_settings(fontsize=11)\n",
    "\n",
    "fig, axs = plt.subplots(2, 2, figsize=(7.5, 5), gridspec_kw=dict(height_ratios=[2, 1.25], wspace=0.05, hspace=0.1))\n",
    "\n",
    "for r, view in enumerate(['lateral', 'medial']):\n",
    "    for c, hemi in enumerate(['rh', 'lh']):\n",
    "        \n",
    "        ax = axs[r, c]\n",
    "        \n",
    "        img = plt.imread(mni_img_path.format(hemi, view))\n",
    "        ax.imshow(img, alpha=0.75)\n",
    "        \n",
    "        simple_df = sig_above_baseline_df.loc[sig_above_baseline_df.subject_electrode.isin(simple_sustained_se)]\n",
    "        cur_df = simple_df.loc[(simple_df.view == view) & (simple_df.hemisphere == hemi)]\n",
    "        ax.scatter(cur_df.x, cur_df.y, color=colors[5], alpha=0.75, s=5, zorder=2, label='Simple\\nsequences')\n",
    "        \n",
    "        complex_df = sig_above_baseline_df.loc[sig_above_baseline_df.subject_electrode.isin(complex_sustained_se)]\n",
    "        cur_df = complex_df.loc[(complex_df.view == view) & (complex_df.hemisphere == hemi)]\n",
    "        ax.scatter(cur_df.x, cur_df.y, facecolor='none', edgecolor=colors[1], alpha=0.75, s=7, zorder=1,\n",
    "                  label='Complex\\nsequences')\n",
    "        \n",
    "        ax.axis('off')\n",
    "        \n",
    "axs[1, 0].legend(frameon=False, bbox_to_anchor=(0.8, 1.3));"
   ]
  },
  {
   "cell_type": "code",
   "execution_count": null,
   "metadata": {},
   "outputs": [],
   "source": []
  }
 ],
 "metadata": {
  "kernelspec": {
   "display_name": "Python 3 (ipykernel)",
   "language": "python",
   "name": "python3"
  },
  "language_info": {
   "codemirror_mode": {
    "name": "ipython",
    "version": 3
   },
   "file_extension": ".py",
   "mimetype": "text/x-python",
   "name": "python",
   "nbconvert_exporter": "python",
   "pygments_lexer": "ipython3",
   "version": "3.8.20"
  }
 },
 "nbformat": 4,
 "nbformat_minor": 4
}
