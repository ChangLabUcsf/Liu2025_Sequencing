{
 "cells": [
  {
   "cell_type": "markdown",
   "metadata": {},
   "source": [
    "# Fig. S4 - Participant electrode coverage"
   ]
  },
  {
   "cell_type": "code",
   "execution_count": null,
   "metadata": {},
   "outputs": [],
   "source": [
    "import json\n",
    "import os\n",
    "import pickle\n",
    "\n",
    "import numpy as np\n",
    "import matplotlib as mpl\n",
    "import matplotlib.pyplot as plt\n",
    "import pandas as pd\n",
    "\n",
    "from sylseq_paper.plotting import default_plot_settings, ucsf_sequential_color_palette as colors\n",
    "\n",
    "default_plot_settings()"
   ]
  },
  {
   "cell_type": "code",
   "execution_count": null,
   "metadata": {},
   "outputs": [],
   "source": [
    "# Set up paths\n",
    "data_dir = os.path.abspath(os.path.join(os.getcwd(), '..', 'data'))\n",
    "img_dir = os.path.abspath(os.path.join(os.getcwd(), '..', 'imaging'))\n",
    "subj_img_path = os.path.join(img_dir, '{}_{}_brain_2D.png')\n",
    "\n",
    "# Load bad channels\n",
    "with open(os.path.join(data_dir, 'bad_channels.pkl'), 'rb') as f:\n",
    "    bad_channels = pickle.load(f)\n",
    "    \n",
    "lateral_and_medial_subjects = ['EC217', 'EC240', 'EC241', 'EC276', 'EC289']\n",
    "lateral_subjects = ['EC219', 'EC223', 'EC237', 'EC253', 'EC254', 'EC260', 'EC263', 'EC267', 'EC282']\n",
    "\n",
    "exclude_areas = ['superiorparietal', 'inferiortemporal', 'paracentral', 'medial']\n",
    "\n",
    "sig_thresh = 0.05\n",
    "\n",
    "all_edf = pd.read_hdf(os.path.join(data_dir, 'all_anatomical_info.h5'))\n",
    "all_edf = all_edf.loc[~all_edf.location.isin(exclude_areas)]"
   ]
  },
  {
   "cell_type": "code",
   "execution_count": null,
   "metadata": {},
   "outputs": [],
   "source": [
    "# Load dataframe electrode information\n",
    "with open(os.path.join(data_dir, 'fig1_ndf_sustained_se.pkl'), 'rb') as f:\n",
    "    results = pickle.load(f)\n",
    "    neural_df = results['neural_df']\n",
    "    main_sustained_se = results['sustained_se']\n",
    "\n",
    "supp_sustained_se = []\n",
    "supp_sig_anytime = []\n",
    "\n",
    "# these subjects were excluded from fig 1 analyses so cluster assignments in separate file\n",
    "for subject in ['EC267', 'EC282', 'EC289']:\n",
    "    with open(os.path.join(data_dir, f'{subject}_supp_analyses.pkl'), 'rb') as f:\n",
    "        results = pickle.load(f)\n",
    "        supp_sustained_se.extend([f'{subject}_{e}' for e in results['sustained_elecs']])\n",
    "        supp_sig_anytime.extend([f'{subject}_{e}' for e in results['any_period_sig_elecs']])\n",
    "\n",
    "all_sustained_elecs = np.unique(np.concatenate([main_sustained_se, supp_sustained_se]))\n",
    "all_sustained_elecs = all_edf.loc[all_edf.subject_electrode.isin(all_sustained_elecs)].subject_electrode.values\n",
    "\n",
    "main_sig_anytime = neural_df.loc[neural_df.significant_above_baseline_anytime].subject_electrode.unique()\n",
    "all_sig_anytime = np.unique(np.concatenate([main_sig_anytime, supp_sig_anytime]))"
   ]
  },
  {
   "cell_type": "code",
   "execution_count": null,
   "metadata": {},
   "outputs": [],
   "source": [
    "def plot_elecs(ax=None, df=None):\n",
    "    \"plot any sig elecs, sustained elecs, rest of the elecs\"\n",
    "    \n",
    "    any_df = df.loc[(df.subject_electrode.isin(all_sig_anytime)) & (~df.subject_electrode.isin(all_sustained_elecs))]\n",
    "    sus_df = df.loc[(df.subject_electrode.isin(all_sig_anytime)) & (df.subject_electrode.isin(all_sustained_elecs))]\n",
    "    rest_df = df.loc[(~df.subject_electrode.isin(all_sig_anytime)) & (~df.subject_electrode.isin(all_sustained_elecs))]\n",
    "    \n",
    "    ax.scatter(rest_df.x, rest_df.y, s=1, color='k', alpha=0.35)\n",
    "    ax.scatter(sus_df.x, sus_df.y, s=10, edgecolor='none', facecolor='orange', alpha=1.0)\n",
    "    ax.scatter(sus_df.x, sus_df.y, s=10, edgecolor='k', facecolor='none', alpha=0.5)\n",
    "    ax.scatter(any_df.x, any_df.y, s=7, edgecolor='none', facecolor='orange', alpha=1.0)"
   ]
  },
  {
   "cell_type": "code",
   "execution_count": null,
   "metadata": {},
   "outputs": [],
   "source": [
    "fig, axs = plt.subplots(5, 4, figsize=(15, 13), gridspec_kw=dict(wspace=0.05))\n",
    "\n",
    "brain_alpha = 0.5\n",
    "fs = 14\n",
    "\n",
    "for subject, (r, c) in zip(lateral_and_medial_subjects, [[0, 0], [0, 2], [1, 0], [1, 2], [2, 0]]):\n",
    "    \n",
    "    bad_ch = np.unique(np.concatenate(list(bad_channels[subject].values())))\n",
    "    edf = all_edf.loc[(all_edf.subject == subject) & (~all_edf.location.isin(exclude_areas))]\n",
    "    \n",
    "    ax = axs[r, c]\n",
    "    view = 'medial'\n",
    "    cur_edf = edf.loc[(edf['view'] == view) & (~edf.electrode.isin(bad_ch))]\n",
    "    img = plt.imread(subj_img_path.format(subject, view))\n",
    "    ax.imshow(img, alpha=brain_alpha)\n",
    "    ax.annotate(subject, (1, 1.05), xycoords='axes fraction', fontsize=fs)\n",
    "    \n",
    "    plot_elecs(ax=ax, df=cur_edf);\n",
    "    \n",
    "    ax = axs[r, c+1]\n",
    "    view = 'lateral'\n",
    "    cur_edf = edf.loc[(edf['view'] == view) & (~edf.electrode.isin(bad_ch))]\n",
    "    img = plt.imread(subj_img_path.format(subject, view))\n",
    "    ax.imshow(img, alpha=brain_alpha)\n",
    "    \n",
    "    plot_elecs(ax=ax, df=cur_edf);\n",
    "    \n",
    "view = 'lateral'\n",
    "for subject, ax in zip(lateral_subjects, axs.ravel()[10:]):\n",
    "    \n",
    "    bad_ch = np.unique(np.concatenate(list(bad_channels[subject].values())))\n",
    "    edf = all_edf.loc[(all_edf.subject == subject) & (~all_edf.location.isin(exclude_areas))]\n",
    "    \n",
    "    cur_edf = edf.loc[(edf['view'] == view) & (~edf.electrode.isin(bad_ch))]\n",
    "    img = plt.imread(subj_img_path.format(subject, view))\n",
    "    ax.imshow(img, alpha=brain_alpha)\n",
    "    ax.axes.set_title(subject, fontsize=fs)\n",
    "    \n",
    "    plot_elecs(ax=ax, df=cur_edf);\n",
    "    \n",
    "for ax in axs.ravel():\n",
    "    ax.axis('off');"
   ]
  },
  {
   "cell_type": "code",
   "execution_count": null,
   "metadata": {},
   "outputs": [],
   "source": []
  }
 ],
 "metadata": {
  "kernelspec": {
   "display_name": "Python 3 (ipykernel)",
   "language": "python",
   "name": "python3"
  },
  "language_info": {
   "codemirror_mode": {
    "name": "ipython",
    "version": 3
   },
   "file_extension": ".py",
   "mimetype": "text/x-python",
   "name": "python",
   "nbconvert_exporter": "python",
   "pygments_lexer": "ipython3",
   "version": "3.8.20"
  }
 },
 "nbformat": 4,
 "nbformat_minor": 4
}
